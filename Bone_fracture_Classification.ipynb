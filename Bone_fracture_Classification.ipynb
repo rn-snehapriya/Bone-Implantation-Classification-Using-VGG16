{
  "nbformat": 4,
  "nbformat_minor": 0,
  "metadata": {
    "colab": {
      "name": "Bone_fracture_21-04-2022.ipynb",
      "provenance": [],
      "collapsed_sections": []
    },
    "kernelspec": {
      "name": "python3",
      "display_name": "Python 3"
    },
    "language_info": {
      "name": "python"
    },
    "accelerator": "GPU"
  },
  "cells": [
    {
      "cell_type": "markdown",
      "source": [
        "# **Image** **Augumentation**"
      ],
      "metadata": {
        "id": "o80oCsiLgR0f"
      }
    },
    {
      "cell_type": "markdown",
      "source": [
        "#### **Augumentation on Cofield**"
      ],
      "metadata": {
        "id": "jyhD5iPCgYIV"
      }
    },
    {
      "cell_type": "code",
      "execution_count": null,
      "metadata": {
        "id": "2PSwXKaBb3Qx"
      },
      "outputs": [],
      "source": [
        "# Augmentation with all parameters\n",
        "\n",
        "import keras\n",
        "import cv2\n",
        "import os\n",
        "import glob\n",
        "from keras.preprocessing.image import ImageDataGenerator, array_to_img, img_to_array, load_img\n",
        "datagen = ImageDataGenerator(rotation_range =15, \n",
        "                         width_shift_range = 0.2, \n",
        "                         height_shift_range = 0.2,  \n",
        "                         rescale=1./255, \n",
        "                         shear_range=0.2, \n",
        "                         zoom_range=0.2, \n",
        "                         horizontal_flip = True, \n",
        "                         fill_mode = 'nearest', \n",
        "                         data_format='channels_last', \n",
        "                         brightness_range=[0.5, 1.5]) \n",
        "\n",
        "\n",
        "img_dir = \"/content/drive/MyDrive/EDA_Project/Dataset/Cofield\"\n",
        "data_path = os.path.join(img_dir,'*g')\n",
        "files = glob.glob(data_path)\n",
        "data = []\n",
        "for f1 in files:\n",
        "    img = cv2.imread(f1)\n",
        "    data.append(img)\n",
        "\n",
        "x = img_to_array(img)\n",
        "x = x.reshape((1,) + x.shape)\n",
        "\n",
        "i = 0\n",
        "path, dirs, files = next(os.walk(\"/content/drive/MyDrive/EDA_Project/Dataset/Cofield\"))\n",
        "file_count = len(files) #to find number of files in folder\n",
        "\n",
        "for batch in datagen.flow (x, batch_size=1, save_to_dir =r'/content/drive/MyDrive/EDA_Project/Dataset/Cofield',save_prefix=\"a\",save_format='jpg'):\n",
        "    i+=1\n",
        "    if i==file_count:\n",
        "      break"
      ]
    },
    {
      "cell_type": "code",
      "source": [
        "# Augumentation with rotation range\n",
        "\n",
        "import keras\n",
        "import cv2\n",
        "import os\n",
        "import glob\n",
        "from keras.preprocessing.image import ImageDataGenerator, array_to_img, img_to_array, load_img\n",
        "datagen = ImageDataGenerator(rotation_range =30) \n",
        "\n",
        "\n",
        "img_dir = \"/content/drive/MyDrive/EDA_Project/Dataset/Cofield\"\n",
        "data_path = os.path.join(img_dir,'*g')\n",
        "files = glob.glob(data_path)\n",
        "data = []\n",
        "for f1 in files:\n",
        "    img = cv2.imread(f1)\n",
        "    data.append(img)\n",
        "\n",
        "x = img_to_array(img)\n",
        "x = x.reshape((1,) + x.shape)\n",
        "\n",
        "i = 0\n",
        "path, dirs, files = next(os.walk(\"/content/drive/MyDrive/EDA_Project/Dataset/Cofield\"))\n",
        "file_count = len(files) #to find number of files in folder\n",
        "\n",
        "for batch in datagen.flow (x, batch_size=1, save_to_dir =r'/content/drive/MyDrive/EDA_Project/Dataset/Cofield',save_prefix=\"a\",save_format='jpg'):\n",
        "    i+=1\n",
        "    if i==file_count:\n",
        "      break"
      ],
      "metadata": {
        "id": "AxKIFkPpj4Nv"
      },
      "execution_count": null,
      "outputs": []
    },
    {
      "cell_type": "code",
      "source": [
        "# Augmentation with horizontal flip\n",
        "\n",
        "import keras\n",
        "import cv2\n",
        "import os\n",
        "import glob\n",
        "from keras.preprocessing.image import ImageDataGenerator, array_to_img, img_to_array, load_img\n",
        "datagen = ImageDataGenerator(\n",
        "                         horizontal_flip=True) \n",
        "\n",
        "\n",
        "img_dir = \"/content/drive/MyDrive/EDA_Project/Dataset/Cofield\"\n",
        "data_path = os.path.join(img_dir,'*g')\n",
        "files = glob.glob(data_path)\n",
        "data = []\n",
        "for f1 in files:\n",
        "    img = cv2.imread(f1)\n",
        "    data.append(img)\n",
        "\n",
        "x = img_to_array(img)\n",
        "x = x.reshape((1,) + x.shape)\n",
        "\n",
        "i = 0\n",
        "path, dirs, files = next(os.walk(\"/content/drive/MyDrive/EDA_Project/Dataset/Cofield\"))\n",
        "file_count = len(files) #to find number of files in folder\n",
        "\n",
        "for batch in datagen.flow (x, batch_size=1, save_to_dir =r'/content/drive/MyDrive/EDA_Project/Dataset/Cofield',save_prefix=\"a\",save_format='jpg'):\n",
        "    i+=1\n",
        "    if i==file_count:\n",
        "      break"
      ],
      "metadata": {
        "id": "E5UjwHR6kggG"
      },
      "execution_count": null,
      "outputs": []
    },
    {
      "cell_type": "code",
      "source": [
        "# Augmentation with Zoom range\n",
        "\n",
        "import keras\n",
        "import cv2\n",
        "import os\n",
        "import glob\n",
        "from keras.preprocessing.image import ImageDataGenerator, array_to_img, img_to_array, load_img\n",
        "datagen = ImageDataGenerator(\n",
        "                         zoom_range=0.5) \n",
        "\n",
        "\n",
        "img_dir = \"/content/drive/MyDrive/EDA_Project/Dataset/Cofield\"\n",
        "data_path = os.path.join(img_dir,'*g')\n",
        "files = glob.glob(data_path)\n",
        "data = []\n",
        "for f1 in files:\n",
        "    img = cv2.imread(f1)\n",
        "    data.append(img)\n",
        "\n",
        "x = img_to_array(img)\n",
        "x = x.reshape((1,) + x.shape)\n",
        "\n",
        "i = 0\n",
        "path, dirs, files = next(os.walk(\"/content/drive/MyDrive/EDA_Project/Dataset/Cofield\"))\n",
        "file_count = len(files) #to find number of files in folder\n",
        "\n",
        "for batch in datagen.flow (x, batch_size=1, save_to_dir =r'/content/drive/MyDrive/EDA_Project/Dataset/Cofield',save_prefix=\"a\",save_format='jpg'):\n",
        "    i+=1\n",
        "    if i==file_count:\n",
        "      break"
      ],
      "metadata": {
        "id": "xJ4Oo33ElO1E"
      },
      "execution_count": null,
      "outputs": []
    },
    {
      "cell_type": "code",
      "source": [
        "# Augmentation with Random Brightness\n",
        "\n",
        "import keras\n",
        "import cv2\n",
        "import os\n",
        "import glob\n",
        "from keras.preprocessing.image import ImageDataGenerator, array_to_img, img_to_array, load_img\n",
        "datagen = ImageDataGenerator( \n",
        "                         brightness_range=[0.7, 1.3]) \n",
        "\n",
        "\n",
        "img_dir = \"/content/drive/MyDrive/EDA_Project/Dataset/Cofield\"\n",
        "data_path = os.path.join(img_dir,'*g')\n",
        "files = glob.glob(data_path)\n",
        "data = []\n",
        "for f1 in files:\n",
        "    img = cv2.imread(f1)\n",
        "    data.append(img)\n",
        "\n",
        "x = img_to_array(img)\n",
        "x = x.reshape((1,) + x.shape)\n",
        "\n",
        "i = 0\n",
        "path, dirs, files = next(os.walk(\"/content/drive/MyDrive/EDA_Project/Dataset/Cofield\"))\n",
        "file_count = len(files) #to find number of files in folder\n",
        "\n",
        "for batch in datagen.flow (x, batch_size=1, save_to_dir =r'/content/drive/MyDrive/EDA_Project/Dataset/Cofield',save_prefix=\"a\",save_format='jpg'):\n",
        "    i+=1\n",
        "    if i==file_count:\n",
        "      break"
      ],
      "metadata": {
        "id": "YZ1X_7ablz50"
      },
      "execution_count": null,
      "outputs": []
    },
    {
      "cell_type": "code",
      "source": [
        "import os\n",
        "FOLDER_PATH = 'Cofield'\n",
        "ROOT_PATH = '/content/drive/MyDrive/EDA_Project/Dataset/'\n",
        "print(len(os.listdir(os.path.join(ROOT_PATH, FOLDER_PATH))))"
      ],
      "metadata": {
        "colab": {
          "base_uri": "https://localhost:8080/"
        },
        "id": "4Qtp47evhy3W",
        "outputId": "bef29498-5216-465a-92d7-b010385bf332"
      },
      "execution_count": null,
      "outputs": [
        {
          "output_type": "stream",
          "name": "stdout",
          "text": [
            "2290\n"
          ]
        }
      ]
    },
    {
      "cell_type": "markdown",
      "source": [
        "### **Augumentation on Depuy**"
      ],
      "metadata": {
        "id": "bajgV4NhnEkV"
      }
    },
    {
      "cell_type": "code",
      "source": [
        "# Augmentation with all parameters\n",
        "\n",
        "import keras\n",
        "import cv2\n",
        "import os\n",
        "import glob\n",
        "from keras.preprocessing.image import ImageDataGenerator, array_to_img, img_to_array, load_img\n",
        "datagen = ImageDataGenerator(rotation_range =15, \n",
        "                         width_shift_range = 0.2, \n",
        "                         height_shift_range = 0.2,  \n",
        "                         rescale=1./255, \n",
        "                         shear_range=0.2, \n",
        "                         zoom_range=0.2, \n",
        "                         horizontal_flip = True, \n",
        "                         fill_mode = 'nearest', \n",
        "                         data_format='channels_last', \n",
        "                         brightness_range=[0.5, 1.5]) \n",
        "\n",
        "\n",
        "img_dir = \"/content/drive/MyDrive/EDA_Project/Dataset/Depuy\"\n",
        "data_path = os.path.join(img_dir,'*g')\n",
        "files = glob.glob(data_path)\n",
        "data = []\n",
        "for f1 in files:\n",
        "    img = cv2.imread(f1)\n",
        "    data.append(img)\n",
        "\n",
        "x = img_to_array(img)\n",
        "x = x.reshape((1,) + x.shape)\n",
        "\n",
        "i = 0\n",
        "path, dirs, files = next(os.walk(\"/content/drive/MyDrive/EDA_Project/Dataset/Depuy\"))\n",
        "file_count = len(files) #to find number of files in folder\n",
        "\n",
        "for batch in datagen.flow (x, batch_size=1, save_to_dir =r'/content/drive/MyDrive/EDA_Project/Dataset/Depuy',save_prefix=\"a\",save_format='jpg'):\n",
        "    i+=1\n",
        "    if i==file_count:\n",
        "      break"
      ],
      "metadata": {
        "id": "5e0oGYimjr8L"
      },
      "execution_count": null,
      "outputs": []
    },
    {
      "cell_type": "code",
      "source": [
        "# Augumentation with rotation range\n",
        "\n",
        "import keras\n",
        "import cv2\n",
        "import os\n",
        "import glob\n",
        "from keras.preprocessing.image import ImageDataGenerator, array_to_img, img_to_array, load_img\n",
        "datagen = ImageDataGenerator(rotation_range =30) \n",
        "\n",
        "\n",
        "img_dir = \"/content/drive/MyDrive/EDA_Project/Dataset/Depuy\"\n",
        "data_path = os.path.join(img_dir,'*g')\n",
        "files = glob.glob(data_path)\n",
        "data = []\n",
        "for f1 in files:\n",
        "    img = cv2.imread(f1)\n",
        "    data.append(img)\n",
        "\n",
        "x = img_to_array(img)\n",
        "x = x.reshape((1,) + x.shape)\n",
        "\n",
        "i = 0\n",
        "path, dirs, files = next(os.walk(\"/content/drive/MyDrive/EDA_Project/Dataset/Depuy\"))\n",
        "file_count = len(files) #to find number of files in folder\n",
        "\n",
        "for batch in datagen.flow (x, batch_size=1, save_to_dir =r'/content/drive/MyDrive/EDA_Project/Dataset/Depuy',save_prefix=\"a\",save_format='jpg'):\n",
        "    i+=1\n",
        "    if i==file_count:\n",
        "      break"
      ],
      "metadata": {
        "id": "pV5yozkAnqZ-"
      },
      "execution_count": null,
      "outputs": []
    },
    {
      "cell_type": "code",
      "source": [
        "# Augmentation with horizontal flip\n",
        "\n",
        "import keras\n",
        "import cv2\n",
        "import os\n",
        "import glob\n",
        "from keras.preprocessing.image import ImageDataGenerator, array_to_img, img_to_array, load_img\n",
        "datagen = ImageDataGenerator(\n",
        "                         horizontal_flip=True) \n",
        "\n",
        "\n",
        "img_dir = \"/content/drive/MyDrive/EDA_Project/Dataset/Depuy\"\n",
        "data_path = os.path.join(img_dir,'*g')\n",
        "files = glob.glob(data_path)\n",
        "data = []\n",
        "for f1 in files:\n",
        "    img = cv2.imread(f1)\n",
        "    data.append(img)\n",
        "\n",
        "x = img_to_array(img)\n",
        "x = x.reshape((1,) + x.shape)\n",
        "\n",
        "i = 0\n",
        "path, dirs, files = next(os.walk(\"/content/drive/MyDrive/EDA_Project/Dataset/Depuy\"))\n",
        "file_count = len(files) #to find number of files in folder\n",
        "\n",
        "for batch in datagen.flow (x, batch_size=1, save_to_dir =r'/content/drive/MyDrive/EDA_Project/Dataset/Depuy',save_prefix=\"a\",save_format='jpg'):\n",
        "    i+=1\n",
        "    if i==file_count:\n",
        "      break"
      ],
      "metadata": {
        "id": "XpCoEl4RoCmr"
      },
      "execution_count": null,
      "outputs": []
    },
    {
      "cell_type": "code",
      "source": [
        "import os\n",
        "FOLDER_PATH = 'Depuy'\n",
        "ROOT_PATH = '/content/drive/MyDrive/EDA_Project/Dataset/'\n",
        "print(len(os.listdir(os.path.join(ROOT_PATH, FOLDER_PATH))))"
      ],
      "metadata": {
        "colab": {
          "base_uri": "https://localhost:8080/"
        },
        "id": "jf_ohjBanb6Q",
        "outputId": "3e4f7b2d-7ceb-4a24-95fc-c7c7f7f6e2ce"
      },
      "execution_count": null,
      "outputs": [
        {
          "output_type": "stream",
          "name": "stdout",
          "text": [
            "2121\n"
          ]
        }
      ]
    },
    {
      "cell_type": "markdown",
      "source": [
        "### **Augumentation on Tornier**"
      ],
      "metadata": {
        "id": "ebEnUY4qosam"
      }
    },
    {
      "cell_type": "code",
      "source": [
        "# Augmentation with all parameters\n",
        "\n",
        "import keras\n",
        "import cv2\n",
        "import os\n",
        "import glob\n",
        "from keras.preprocessing.image import ImageDataGenerator, array_to_img, img_to_array, load_img\n",
        "datagen = ImageDataGenerator(rotation_range =15, \n",
        "                         width_shift_range = 0.2, \n",
        "                         height_shift_range = 0.2,  \n",
        "                         rescale=1./255, \n",
        "                         shear_range=0.2, \n",
        "                         zoom_range=0.2, \n",
        "                         horizontal_flip = True, \n",
        "                         fill_mode = 'nearest', \n",
        "                         data_format='channels_last', \n",
        "                         brightness_range=[0.5, 1.5]) \n",
        "\n",
        "\n",
        "img_dir = \"/content/drive/MyDrive/EDA_Project/Dataset/Tornier\"\n",
        "data_path = os.path.join(img_dir,'*g')\n",
        "files = glob.glob(data_path)\n",
        "data = []\n",
        "for f1 in files:\n",
        "    img = cv2.imread(f1)\n",
        "    data.append(img)\n",
        "\n",
        "x = img_to_array(img)\n",
        "x = x.reshape((1,) + x.shape)\n",
        "\n",
        "i = 0\n",
        "path, dirs, files = next(os.walk(\"/content/drive/MyDrive/EDA_Project/Dataset/Tornier\"))\n",
        "file_count = len(files) #to find number of files in folder\n",
        "\n",
        "for batch in datagen.flow (x, batch_size=1, save_to_dir =r'/content/drive/MyDrive/EDA_Project/Dataset/Tornier',save_prefix=\"a\",save_format='jpg'):\n",
        "    i+=1\n",
        "    if i==file_count:\n",
        "      break"
      ],
      "metadata": {
        "id": "SQkJcbUon24X"
      },
      "execution_count": null,
      "outputs": []
    },
    {
      "cell_type": "code",
      "source": [
        "# Augumentation with rotation range\n",
        "\n",
        "import keras\n",
        "import cv2\n",
        "import os\n",
        "import glob\n",
        "from keras.preprocessing.image import ImageDataGenerator, array_to_img, img_to_array, load_img\n",
        "datagen = ImageDataGenerator(rotation_range =30) \n",
        "\n",
        "\n",
        "img_dir = \"/content/drive/MyDrive/EDA_Project/Dataset/Tornier\"\n",
        "data_path = os.path.join(img_dir,'*g')\n",
        "files = glob.glob(data_path)\n",
        "data = []\n",
        "for f1 in files:\n",
        "    img = cv2.imread(f1)\n",
        "    data.append(img)\n",
        "\n",
        "x = img_to_array(img)\n",
        "x = x.reshape((1,) + x.shape)\n",
        "\n",
        "i = 0\n",
        "path, dirs, files = next(os.walk(\"/content/drive/MyDrive/EDA_Project/Dataset/Tornier\"))\n",
        "file_count = len(files) #to find number of files in folder\n",
        "\n",
        "for batch in datagen.flow (x, batch_size=1, save_to_dir =r'/content/drive/MyDrive/EDA_Project/Dataset/Tornier',save_prefix=\"a\",save_format='jpg'):\n",
        "    i+=1\n",
        "    if i==file_count:\n",
        "      break"
      ],
      "metadata": {
        "id": "dXUsJnvUpLpP"
      },
      "execution_count": null,
      "outputs": []
    },
    {
      "cell_type": "code",
      "source": [
        "# Augmentation with horizontal flip\n",
        "\n",
        "import keras\n",
        "import cv2\n",
        "import os\n",
        "import glob\n",
        "from keras.preprocessing.image import ImageDataGenerator, array_to_img, img_to_array, load_img\n",
        "datagen = ImageDataGenerator(\n",
        "                         horizontal_flip=True) \n",
        "\n",
        "\n",
        "img_dir = \"/content/drive/MyDrive/EDA_Project/Dataset/Tornier\"\n",
        "data_path = os.path.join(img_dir,'*g')\n",
        "files = glob.glob(data_path)\n",
        "data = []\n",
        "for f1 in files:\n",
        "    img = cv2.imread(f1)\n",
        "    data.append(img)\n",
        "\n",
        "x = img_to_array(img)\n",
        "x = x.reshape((1,) + x.shape)\n",
        "\n",
        "i = 0\n",
        "path, dirs, files = next(os.walk(\"/content/drive/MyDrive/EDA_Project/Dataset/Tornier\"))\n",
        "file_count = len(files) #to find number of files in folder\n",
        "\n",
        "for batch in datagen.flow (x, batch_size=1, save_to_dir =r'/content/drive/MyDrive/EDA_Project/Dataset/Tornier',save_prefix=\"a\",save_format='jpg'):\n",
        "    i+=1\n",
        "    if i==file_count:\n",
        "      break"
      ],
      "metadata": {
        "id": "IsEsthp7paY9"
      },
      "execution_count": null,
      "outputs": []
    },
    {
      "cell_type": "code",
      "source": [
        "# Augmentation with Zoom range\n",
        "\n",
        "import keras\n",
        "import cv2\n",
        "import os\n",
        "import glob\n",
        "from keras.preprocessing.image import ImageDataGenerator, array_to_img, img_to_array, load_img\n",
        "datagen = ImageDataGenerator(\n",
        "                         zoom_range=0.5) \n",
        "\n",
        "\n",
        "img_dir = \"/content/drive/MyDrive/EDA_Project/Dataset/Tornier\"\n",
        "data_path = os.path.join(img_dir,'*g')\n",
        "files = glob.glob(data_path)\n",
        "data = []\n",
        "for f1 in files:\n",
        "    img = cv2.imread(f1)\n",
        "    data.append(img)\n",
        "\n",
        "x = img_to_array(img)\n",
        "x = x.reshape((1,) + x.shape)\n",
        "\n",
        "i = 0\n",
        "path, dirs, files = next(os.walk(\"/content/drive/MyDrive/EDA_Project/Dataset/Tornier\"))\n",
        "file_count = len(files) #to find number of files in folder\n",
        "\n",
        "for batch in datagen.flow (x, batch_size=1, save_to_dir =r'/content/drive/MyDrive/EDA_Project/Dataset/Tornier',save_prefix=\"a\",save_format='jpg'):\n",
        "    i+=1\n",
        "    if i==file_count:\n",
        "      break"
      ],
      "metadata": {
        "id": "joZyCTLapJVP"
      },
      "execution_count": null,
      "outputs": []
    },
    {
      "cell_type": "code",
      "source": [
        "# Augmentation with Random Brightness\n",
        "\n",
        "import keras\n",
        "import cv2\n",
        "import os\n",
        "import glob\n",
        "from keras.preprocessing.image import ImageDataGenerator, array_to_img, img_to_array, load_img\n",
        "datagen = ImageDataGenerator( \n",
        "                         brightness_range=[0.7, 1.3]) \n",
        "\n",
        "\n",
        "img_dir = \"/content/drive/MyDrive/EDA_Project/Dataset/Tornier\"\n",
        "data_path = os.path.join(img_dir,'*g')\n",
        "files = glob.glob(data_path)\n",
        "data = []\n",
        "for f1 in files:\n",
        "    img = cv2.imread(f1)\n",
        "    data.append(img)\n",
        "\n",
        "x = img_to_array(img)\n",
        "x = x.reshape((1,) + x.shape)\n",
        "\n",
        "i = 0\n",
        "path, dirs, files = next(os.walk(\"/content/drive/MyDrive/EDA_Project/Dataset/Tornier\"))\n",
        "file_count = len(files) #to find number of files in folder\n",
        "\n",
        "for batch in datagen.flow (x, batch_size=1, save_to_dir =r'/content/drive/MyDrive/EDA_Project/Dataset/Tornier',save_prefix=\"a\",save_format='jpg'):\n",
        "    i+=1\n",
        "    if i==file_count:\n",
        "      break"
      ],
      "metadata": {
        "id": "fKoHqGgup0yU"
      },
      "execution_count": null,
      "outputs": []
    },
    {
      "cell_type": "code",
      "source": [
        "import os\n",
        "FOLDER_PATH = 'Tornier'\n",
        "ROOT_PATH = '/content/drive/MyDrive/EDA_Project/Dataset/'\n",
        "print(len(os.listdir(os.path.join(ROOT_PATH, FOLDER_PATH))))"
      ],
      "metadata": {
        "colab": {
          "base_uri": "https://localhost:8080/"
        },
        "id": "qP1V08G3ow0t",
        "outputId": "900e7068-bc72-476f-c35b-07ba3481f3be"
      },
      "execution_count": null,
      "outputs": [
        {
          "output_type": "stream",
          "name": "stdout",
          "text": [
            "2002\n"
          ]
        }
      ]
    },
    {
      "cell_type": "markdown",
      "source": [
        "### **Augumentation on Zimmer**"
      ],
      "metadata": {
        "id": "WtHH6jYEqX6O"
      }
    },
    {
      "cell_type": "code",
      "source": [
        "# Augmentation with all parameters\n",
        "\n",
        "import keras\n",
        "import cv2\n",
        "import os\n",
        "import glob\n",
        "from keras.preprocessing.image import ImageDataGenerator, array_to_img, img_to_array, load_img\n",
        "datagen = ImageDataGenerator(rotation_range =15, \n",
        "                         width_shift_range = 0.2, \n",
        "                         height_shift_range = 0.2,  \n",
        "                         rescale=1./255, \n",
        "                         shear_range=0.2, \n",
        "                         zoom_range=0.2, \n",
        "                         horizontal_flip = True, \n",
        "                         fill_mode = 'nearest', \n",
        "                         data_format='channels_last', \n",
        "                         brightness_range=[0.5, 1.5]) \n",
        "\n",
        "\n",
        "img_dir = \"/content/drive/MyDrive/EDA_Project/Dataset/Zimmer\"\n",
        "data_path = os.path.join(img_dir,'*g')\n",
        "files = glob.glob(data_path)\n",
        "data = []\n",
        "for f1 in files:\n",
        "    img = cv2.imread(f1)\n",
        "    data.append(img)\n",
        "\n",
        "x = img_to_array(img)\n",
        "x = x.reshape((1,) + x.shape)\n",
        "\n",
        "i = 0\n",
        "path, dirs, files = next(os.walk(\"/content/drive/MyDrive/EDA_Project/Dataset/Zimmer\"))\n",
        "file_count = len(files) #to find number of files in folder\n",
        "\n",
        "for batch in datagen.flow (x, batch_size=1, save_to_dir =r'/content/drive/MyDrive/EDA_Project/Dataset/Zimmer',save_prefix=\"a\",save_format='jpg'):\n",
        "    i+=1\n",
        "    if i==file_count:\n",
        "      break"
      ],
      "metadata": {
        "id": "FjzP1XurqcEq"
      },
      "execution_count": null,
      "outputs": []
    },
    {
      "cell_type": "code",
      "source": [
        "# Augumentation with rotation range\n",
        "\n",
        "import keras\n",
        "import cv2\n",
        "import os\n",
        "import glob\n",
        "from keras.preprocessing.image import ImageDataGenerator, array_to_img, img_to_array, load_img\n",
        "datagen = ImageDataGenerator(rotation_range =30) \n",
        "\n",
        "\n",
        "img_dir = \"/content/drive/MyDrive/EDA_Project/Dataset/Zimmer\"\n",
        "data_path = os.path.join(img_dir,'*g')\n",
        "files = glob.glob(data_path)\n",
        "data = []\n",
        "for f1 in files:\n",
        "    img = cv2.imread(f1)\n",
        "    data.append(img)\n",
        "\n",
        "x = img_to_array(img)\n",
        "x = x.reshape((1,) + x.shape)\n",
        "\n",
        "i = 0\n",
        "path, dirs, files = next(os.walk(\"/content/drive/MyDrive/EDA_Project/Dataset/Zimmer\"))\n",
        "file_count = len(files) #to find number of files in folder\n",
        "\n",
        "for batch in datagen.flow (x, batch_size=1, save_to_dir =r'/content/drive/MyDrive/EDA_Project/Dataset/Zimmer',save_prefix=\"a\",save_format='jpg'):\n",
        "    i+=1\n",
        "    if i==file_count:\n",
        "      break"
      ],
      "metadata": {
        "id": "C3wTZ2n9qs01"
      },
      "execution_count": null,
      "outputs": []
    },
    {
      "cell_type": "code",
      "source": [
        "# Augmentation with horizontal flip\n",
        "\n",
        "import keras\n",
        "import cv2\n",
        "import os\n",
        "import glob\n",
        "from keras.preprocessing.image import ImageDataGenerator, array_to_img, img_to_array, load_img\n",
        "datagen = ImageDataGenerator(\n",
        "                         horizontal_flip=True) \n",
        "\n",
        "\n",
        "img_dir = \"/content/drive/MyDrive/EDA_Project/Dataset/Zimmer\"\n",
        "data_path = os.path.join(img_dir,'*g')\n",
        "files = glob.glob(data_path)\n",
        "data = []\n",
        "for f1 in files:\n",
        "    img = cv2.imread(f1)\n",
        "    data.append(img)\n",
        "\n",
        "x = img_to_array(img)\n",
        "x = x.reshape((1,) + x.shape)\n",
        "\n",
        "i = 0\n",
        "path, dirs, files = next(os.walk(\"/content/drive/MyDrive/EDA_Project/Dataset/Zimmer\"))\n",
        "file_count = len(files) #to find number of files in folder\n",
        "\n",
        "for batch in datagen.flow (x, batch_size=1, save_to_dir =r'/content/drive/MyDrive/EDA_Project/Dataset/Zimmer',save_prefix=\"a\",save_format='jpg'):\n",
        "    i+=1\n",
        "    if i==file_count:\n",
        "      break"
      ],
      "metadata": {
        "id": "z7C8KvOwq4G_"
      },
      "execution_count": null,
      "outputs": []
    },
    {
      "cell_type": "code",
      "source": [
        "# Augmentation with Zoom range\n",
        "\n",
        "import keras\n",
        "import cv2\n",
        "import os\n",
        "import glob\n",
        "from keras.preprocessing.image import ImageDataGenerator, array_to_img, img_to_array, load_img\n",
        "datagen = ImageDataGenerator(\n",
        "                         zoom_range=0.5) \n",
        "\n",
        "\n",
        "img_dir = \"/content/drive/MyDrive/EDA_Project/Dataset/Zimmer\"\n",
        "data_path = os.path.join(img_dir,'*g')\n",
        "files = glob.glob(data_path)\n",
        "data = []\n",
        "for f1 in files:\n",
        "    img = cv2.imread(f1)\n",
        "    data.append(img)\n",
        "\n",
        "x = img_to_array(img)\n",
        "x = x.reshape((1,) + x.shape)\n",
        "\n",
        "i = 0\n",
        "path, dirs, files = next(os.walk(\"/content/drive/MyDrive/EDA_Project/Dataset/Zimmer\"))\n",
        "file_count = len(files) #to find number of files in folder\n",
        "\n",
        "for batch in datagen.flow (x, batch_size=1, save_to_dir =r'/content/drive/MyDrive/EDA_Project/Dataset/Zimmer',save_prefix=\"a\",save_format='jpg'):\n",
        "    i+=1\n",
        "    if i==file_count:\n",
        "      break"
      ],
      "metadata": {
        "id": "2hjYjc7SrH8P"
      },
      "execution_count": null,
      "outputs": []
    },
    {
      "cell_type": "code",
      "source": [
        "import os\n",
        "FOLDER_PATH = 'Zimmer'\n",
        "ROOT_PATH = '/content/drive/MyDrive/EDA_Project/Dataset/'\n",
        "print(len(os.listdir(os.path.join(ROOT_PATH, FOLDER_PATH))))"
      ],
      "metadata": {
        "colab": {
          "base_uri": "https://localhost:8080/"
        },
        "id": "34n061zYqpQ2",
        "outputId": "cd9b3be8-6c5c-42b6-f080-1d9ced3608ff"
      },
      "execution_count": null,
      "outputs": [
        {
          "output_type": "stream",
          "name": "stdout",
          "text": [
            "2125\n"
          ]
        }
      ]
    },
    {
      "cell_type": "markdown",
      "source": [
        "# **Bone Fracture Classification** "
      ],
      "metadata": {
        "id": "DfC87skosTwi"
      }
    },
    {
      "cell_type": "code",
      "source": [
        "# import the libraries as shown below\n",
        "\n",
        "from keras.layers import Input, Lambda, Dense, Flatten\n",
        "from keras.models import Model\n",
        "#from keras.applications.resnet50 import ResNet50\n",
        "from keras.applications.vgg16 import VGG16\n",
        "from keras.applications.vgg16 import preprocess_input\n",
        "from keras.preprocessing import image\n",
        "from keras.preprocessing.image import ImageDataGenerator\n",
        "from keras.models import Sequential\n",
        "import numpy as np\n",
        "from glob import glob\n",
        "import matplotlib.pyplot as plt"
      ],
      "metadata": {
        "id": "GCwhpZFos6Hp"
      },
      "execution_count": 1,
      "outputs": []
    },
    {
      "cell_type": "code",
      "source": [
        "# re-size all the images to this\n",
        "IMAGE_SIZE = [224, 224]\n",
        "\n",
        "train_path = '/content/drive/MyDrive/EDA_Project/Data/train'\n",
        "valid_path = '/content/drive/MyDrive/EDA_Project/Data/test'"
      ],
      "metadata": {
        "id": "R7a_LTpK5H9w"
      },
      "execution_count": 2,
      "outputs": []
    },
    {
      "cell_type": "code",
      "source": [
        "# Import the Vgg 16 library as shown below and add preprocessing layer to the front of VGG\n",
        "# Here we will be using imagenet weights\n",
        "\n",
        "vgg = VGG16(input_shape=IMAGE_SIZE + [3], weights='imagenet', include_top=False)"
      ],
      "metadata": {
        "colab": {
          "base_uri": "https://localhost:8080/"
        },
        "id": "j38K6FIZ53qK",
        "outputId": "d9e0dd8c-1fb0-4c08-d98b-f80e84d2b07f"
      },
      "execution_count": 3,
      "outputs": [
        {
          "output_type": "stream",
          "name": "stdout",
          "text": [
            "Downloading data from https://storage.googleapis.com/tensorflow/keras-applications/vgg16/vgg16_weights_tf_dim_ordering_tf_kernels_notop.h5\n",
            "58892288/58889256 [==============================] - 0s 0us/step\n",
            "58900480/58889256 [==============================] - 0s 0us/step\n"
          ]
        }
      ]
    },
    {
      "cell_type": "code",
      "source": [
        "# don't train existing weights\n",
        "for layer in vgg.layers:\n",
        "    layer.trainable = False"
      ],
      "metadata": {
        "id": "jfr9uSpm587R"
      },
      "execution_count": 4,
      "outputs": []
    },
    {
      "cell_type": "code",
      "source": [
        " # useful for getting number of output classes\n",
        "folders = glob('/content/drive/MyDrive/EDA_Project/Data/train/*')"
      ],
      "metadata": {
        "id": "jgopB_UU6Dw9"
      },
      "execution_count": 9,
      "outputs": []
    },
    {
      "cell_type": "code",
      "source": [
        "# our layers - you can add more if you want\n",
        "x = Flatten()(vgg.output)"
      ],
      "metadata": {
        "id": "K0aMj26o6K7b"
      },
      "execution_count": 10,
      "outputs": []
    },
    {
      "cell_type": "code",
      "source": [
        "prediction = Dense(len(folders), activation='softmax')(x)\n",
        "\n",
        "# create a model object\n",
        "model = Model(inputs=vgg.input, outputs=prediction)"
      ],
      "metadata": {
        "id": "18z894G96U6z"
      },
      "execution_count": 11,
      "outputs": []
    },
    {
      "cell_type": "code",
      "source": [
        "# view the structure of the model\n",
        "model.summary()"
      ],
      "metadata": {
        "colab": {
          "base_uri": "https://localhost:8080/"
        },
        "id": "kwDBvIKs6XN8",
        "outputId": "c7768bd0-f827-4718-8965-668b44a6e430"
      },
      "execution_count": 12,
      "outputs": [
        {
          "output_type": "stream",
          "name": "stdout",
          "text": [
            "Model: \"model_1\"\n",
            "_________________________________________________________________\n",
            " Layer (type)                Output Shape              Param #   \n",
            "=================================================================\n",
            " input_1 (InputLayer)        [(None, 224, 224, 3)]     0         \n",
            "                                                                 \n",
            " block1_conv1 (Conv2D)       (None, 224, 224, 64)      1792      \n",
            "                                                                 \n",
            " block1_conv2 (Conv2D)       (None, 224, 224, 64)      36928     \n",
            "                                                                 \n",
            " block1_pool (MaxPooling2D)  (None, 112, 112, 64)      0         \n",
            "                                                                 \n",
            " block2_conv1 (Conv2D)       (None, 112, 112, 128)     73856     \n",
            "                                                                 \n",
            " block2_conv2 (Conv2D)       (None, 112, 112, 128)     147584    \n",
            "                                                                 \n",
            " block2_pool (MaxPooling2D)  (None, 56, 56, 128)       0         \n",
            "                                                                 \n",
            " block3_conv1 (Conv2D)       (None, 56, 56, 256)       295168    \n",
            "                                                                 \n",
            " block3_conv2 (Conv2D)       (None, 56, 56, 256)       590080    \n",
            "                                                                 \n",
            " block3_conv3 (Conv2D)       (None, 56, 56, 256)       590080    \n",
            "                                                                 \n",
            " block3_pool (MaxPooling2D)  (None, 28, 28, 256)       0         \n",
            "                                                                 \n",
            " block4_conv1 (Conv2D)       (None, 28, 28, 512)       1180160   \n",
            "                                                                 \n",
            " block4_conv2 (Conv2D)       (None, 28, 28, 512)       2359808   \n",
            "                                                                 \n",
            " block4_conv3 (Conv2D)       (None, 28, 28, 512)       2359808   \n",
            "                                                                 \n",
            " block4_pool (MaxPooling2D)  (None, 14, 14, 512)       0         \n",
            "                                                                 \n",
            " block5_conv1 (Conv2D)       (None, 14, 14, 512)       2359808   \n",
            "                                                                 \n",
            " block5_conv2 (Conv2D)       (None, 14, 14, 512)       2359808   \n",
            "                                                                 \n",
            " block5_conv3 (Conv2D)       (None, 14, 14, 512)       2359808   \n",
            "                                                                 \n",
            " block5_pool (MaxPooling2D)  (None, 7, 7, 512)         0         \n",
            "                                                                 \n",
            " flatten_1 (Flatten)         (None, 25088)             0         \n",
            "                                                                 \n",
            " dense_1 (Dense)             (None, 4)                 100356    \n",
            "                                                                 \n",
            "=================================================================\n",
            "Total params: 14,815,044\n",
            "Trainable params: 100,356\n",
            "Non-trainable params: 14,714,688\n",
            "_________________________________________________________________\n"
          ]
        }
      ]
    },
    {
      "cell_type": "code",
      "source": [
        "# tell the model what cost and optimization method to use\n",
        "model.compile(\n",
        "  loss='categorical_crossentropy',\n",
        "  optimizer='adam',\n",
        "  metrics=['accuracy']\n",
        ")"
      ],
      "metadata": {
        "id": "_TGOdUPB6clm"
      },
      "execution_count": 13,
      "outputs": []
    },
    {
      "cell_type": "code",
      "source": [
        "# Use the Image Data Generator to import the images from the dataset\n",
        "from keras.preprocessing.image import ImageDataGenerator\n",
        "\n",
        "train_datagen = ImageDataGenerator(rescale = 1./255,\n",
        "                                   shear_range = 0.2,\n",
        "                                   zoom_range = 0.2,\n",
        "                                   horizontal_flip = True)\n",
        "\n",
        "test_datagen = ImageDataGenerator(rescale = 1./255)"
      ],
      "metadata": {
        "id": "EIlnG0OG62ii"
      },
      "execution_count": 14,
      "outputs": []
    },
    {
      "cell_type": "code",
      "source": [
        "# Make sure you provide the same target size as initialied for the image size\n",
        "training_set = train_datagen.flow_from_directory('/content/drive/MyDrive/EDA_Project/Data/train',\n",
        "                                                 target_size = (224, 224),\n",
        "                                                 batch_size = 32,\n",
        "                                                 class_mode = 'categorical')"
      ],
      "metadata": {
        "colab": {
          "base_uri": "https://localhost:8080/"
        },
        "id": "wGLGjzwV67t3",
        "outputId": "48effeb6-0a92-4a46-932f-680f72c80e2b"
      },
      "execution_count": 16,
      "outputs": [
        {
          "output_type": "stream",
          "name": "stdout",
          "text": [
            "Found 6829 images belonging to 4 classes.\n"
          ]
        }
      ]
    },
    {
      "cell_type": "code",
      "source": [
        "test_set = test_datagen.flow_from_directory('/content/drive/MyDrive/EDA_Project/Data/test',\n",
        "                                            target_size = (224, 224),\n",
        "                                            batch_size = 32,\n",
        "                                            class_mode = 'categorical')"
      ],
      "metadata": {
        "colab": {
          "base_uri": "https://localhost:8080/"
        },
        "id": "VG_aMZ847IIw",
        "outputId": "9b82a44b-cb6a-4bc2-f191-d2cdc30a8e48"
      },
      "execution_count": 17,
      "outputs": [
        {
          "output_type": "stream",
          "name": "stdout",
          "text": [
            "Found 1669 images belonging to 4 classes.\n"
          ]
        }
      ]
    },
    {
      "cell_type": "code",
      "source": [
        "# fit the model\n",
        "# Run the cell. It will take some time to execute\n",
        "r = model.fit_generator(\n",
        "  training_set,\n",
        "  validation_data=test_set,\n",
        "  epochs=5,\n",
        "  steps_per_epoch=len(training_set),\n",
        "  validation_steps=len(test_set)\n",
        ")"
      ],
      "metadata": {
        "colab": {
          "base_uri": "https://localhost:8080/"
        },
        "id": "DPaAu70_7UEX",
        "outputId": "ff8e12b5-aa81-436c-a4e7-a106b7da6389"
      },
      "execution_count": 18,
      "outputs": [
        {
          "output_type": "stream",
          "name": "stderr",
          "text": [
            "/usr/local/lib/python3.7/dist-packages/ipykernel_launcher.py:8: UserWarning: `Model.fit_generator` is deprecated and will be removed in a future version. Please use `Model.fit`, which supports generators.\n",
            "  \n"
          ]
        },
        {
          "output_type": "stream",
          "name": "stdout",
          "text": [
            "Epoch 1/5\n",
            "214/214 [==============================] - 1636s 8s/step - loss: 0.1757 - accuracy: 0.9404 - val_loss: 0.0777 - val_accuracy: 0.9766\n",
            "Epoch 2/5\n",
            "214/214 [==============================] - 118s 551ms/step - loss: 0.1209 - accuracy: 0.9590 - val_loss: 0.1098 - val_accuracy: 0.9575\n",
            "Epoch 3/5\n",
            "214/214 [==============================] - 118s 552ms/step - loss: 0.1011 - accuracy: 0.9647 - val_loss: 0.1187 - val_accuracy: 0.9617\n",
            "Epoch 4/5\n",
            "214/214 [==============================] - 120s 558ms/step - loss: 0.1147 - accuracy: 0.9624 - val_loss: 0.1207 - val_accuracy: 0.9688\n",
            "Epoch 5/5\n",
            "214/214 [==============================] - 119s 554ms/step - loss: 0.0879 - accuracy: 0.9714 - val_loss: 0.1033 - val_accuracy: 0.9605\n"
          ]
        }
      ]
    },
    {
      "cell_type": "code",
      "source": [
        "# plot the loss\n",
        "plt.plot(r.history['loss'], label='train loss')\n",
        "plt.plot(r.history['val_loss'], label='val loss')\n",
        "plt.legend()\n",
        "plt.show()\n",
        "plt.savefig('LossVal_loss')\n",
        "\n",
        "# plot the accuracy\n",
        "plt.plot(r.history['accuracy'], label='train acc')\n",
        "plt.plot(r.history['val_accuracy'], label='val acc')\n",
        "plt.legend()\n",
        "plt.show()\n",
        "plt.savefig('AccVal_acc')"
      ],
      "metadata": {
        "colab": {
          "base_uri": "https://localhost:8080/",
          "height": 534
        },
        "id": "hMEO67TR7Y3E",
        "outputId": "9450b954-06d9-460a-db8b-24322c8cfc2d"
      },
      "execution_count": 21,
      "outputs": [
        {
          "output_type": "display_data",
          "data": {
            "text/plain": [
              "<Figure size 432x288 with 1 Axes>"
            ],
            "image/png": "[encoded data removed]"
          },
          "metadata": {
            "needs_background": "light"
          }
        },
        {
          "output_type": "display_data",
          "data": {
            "text/plain": [
              "<Figure size 432x288 with 1 Axes>"
            ],
            "image/png": "[encoded data removed]"
          },
          "metadata": {
            "needs_background": "light"
          }
        },
        {
          "output_type": "display_data",
          "data": {
            "text/plain": [
              "<Figure size 432x288 with 0 Axes>"
            ]
          },
          "metadata": {}
        }
      ]
    },
    {
      "cell_type": "code",
      "source": [
        "# save it as a h5 file\n",
        "\n",
        "import tensorflow as tf\n",
        "\n",
        "from keras.models import load_model\n",
        "\n",
        "model.save('model_vgg16.h5')"
      ],
      "metadata": {
        "id": "YRWBdeiPDySb"
      },
      "execution_count": 20,
      "outputs": []
    },
    {
      "cell_type": "code",
      "source": [
        ""
      ],
      "metadata": {
        "id": "GRNYNexLD4IX"
      },
      "execution_count": null,
      "outputs": []
    }
  ]
}